{
 "metadata": {
  "language_info": {
   "codemirror_mode": {
    "name": "ipython",
    "version": 3
   },
   "file_extension": ".py",
   "mimetype": "text/x-python",
   "name": "python",
   "nbconvert_exporter": "python",
   "pygments_lexer": "ipython3",
   "version": "3.8.5"
  },
  "orig_nbformat": 2,
  "kernelspec": {
   "name": "python385jvsc74a57bd0e33e11ac10b7ee9e33b877de694a64e88ab959fbbc6192b5a4d7c2c2d7abde69",
   "display_name": "Python 3.8.5 64-bit ('base': conda)"
  },
  "metadata": {
   "interpreter": {
    "hash": "31f2aee4e71d21fbe5cf8b01ff0e069b9275f58929596ceb00d14d90e3e16cd6"
   }
  }
 },
 "nbformat": 4,
 "nbformat_minor": 2,
 "cells": [
  {
   "cell_type": "code",
   "execution_count": 1,
   "metadata": {},
   "outputs": [],
   "source": [
    "from psaw import PushshiftAPI\n",
    "\n",
    "api = PushshiftAPI()\n"
   ]
  },
  {
   "cell_type": "code",
   "execution_count": null,
   "metadata": {},
   "outputs": [],
   "source": [
    "# The `search_comments` and `search_submissions` methods return generator objects\n",
    "gen = api.search_comments(subreddit='politics')\n",
    "\n",
    "comments = []\n",
    "\n",
    "for c in gen:\n",
    "    comments.append(c.body)\n",
    "\n",
    "    # Omit this test to actually return all results. Wouldn't recommend it though: could take a while, but you do you.\n",
    "    if c.created_utc < 1588273829:\n",
    "        break"
   ]
  },
  {
   "cell_type": "code",
   "execution_count": null,
   "metadata": {},
   "outputs": [],
   "source": [
    "len(comments)"
   ]
  },
  {
   "cell_type": "code",
   "execution_count": 13,
   "metadata": {},
   "outputs": [],
   "source": [
    "stop_time = 1588180459\n",
    "\n",
    "def get_brr(rs, stop_time):\n",
    "    with open(f'brr_comments_{rs}.txt', 'w', encoding='utf-8') as f:\n",
    "        # Create comment generator\n",
    "        gen = api.search_comments(subreddit='politics', q=f'\"b{\"r\" * rs}\"')\n",
    "       \n",
    "        for c in gen:\n",
    "            # Write body to file\n",
    "            f.write(c.body + '\\n')\n",
    "\n",
    "            # Stop at given epoch time\n",
    "            if c.created_utc < stop_time:\n",
    "                break\n",
    "\n",
    "for rs in range(2, 11):\n",
    "    get_brr(rs, stop_time)"
   ]
  },
  {
   "cell_type": "code",
   "execution_count": 60,
   "metadata": {},
   "outputs": [
    {
     "output_type": "execute_result",
     "data": {
      "text/plain": [
       "[2, 3, 4, 5, 6, 7, 8, 9]"
      ]
     },
     "metadata": {},
     "execution_count": 60
    }
   ],
   "source": [
    "list(range(2, 10))"
   ]
  },
  {
   "cell_type": "code",
   "execution_count": 10,
   "metadata": {},
   "outputs": [],
   "source": [
    "stop_time = 1588180459\n",
    "\n",
    "def get_pill(stop_time):\n",
    "    with open(f'pilled_comments.txt', 'w', encoding='utf-8') as f:\n",
    "        # Create comment generator\n",
    "        gen = api.search_comments(subreddit='politics', q=f'\"pilled\"')\n",
    "       \n",
    "        for c in gen:\n",
    "            # Write body to file\n",
    "            f.write(c.body + '\\n')\n",
    "\n",
    "            # Stop at given epoch time\n",
    "            if c.created_utc < stop_time:\n",
    "                break\n",
    "\n",
    "get_pill(stop_time)"
   ]
  },
  {
   "source": [
    "stop_time = 1588180459\n",
    "\n",
    "def all_comments(stop_time):\n",
    "    with open(f'comments.txt', 'w', encoding='utf-8') as f:\n",
    "        # Create comment generator\n",
    "        gen = api.search_comments(subreddit='politics', q='')\n",
    "       \n",
    "        for c in gen:\n",
    "            # Write body to file\n",
    "            f.write(c.body + '\\n')\n",
    "\n",
    "            # Stop at given epoch time\n",
    "            if c.created_utc < stop_time:\n",
    "                break\n",
    "\n",
    "all_comments(stop_time)"
   ],
   "cell_type": "code",
   "metadata": {},
   "execution_count": null,
   "outputs": []
  },
  {
   "cell_type": "code",
   "execution_count": 12,
   "metadata": {},
   "outputs": [],
   "source": [
    "stop_time = 1588180459\n",
    "\n",
    "def get_bernie(stop_time):\n",
    "    with open(f'berniebro_comments.txt', 'w', encoding='utf-8') as f:\n",
    "        # Create comment generator\n",
    "        gen = api.search_comments(subreddit='politics', q=f'\"I am once again asking\"')\n",
    "       \n",
    "        for c in gen:\n",
    "            # Write body to file\n",
    "            f.write(c.body + '\\n')\n",
    "\n",
    "            # Stop at given epoch time\n",
    "            if c.created_utc < stop_time:\n",
    "                break\n",
    "\n",
    "get_bernie(stop_time)"
   ]
  },
  {
   "cell_type": "code",
   "execution_count": null,
   "metadata": {},
   "outputs": [],
   "source": []
  }
 ]
}